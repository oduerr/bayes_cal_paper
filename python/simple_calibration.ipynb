{
 "cells": [
  {
   "cell_type": "markdown",
   "source": [
    "Simple demonstration of the Bayesian calibration using CmdStanPy https://mc-stan.org/cmdstanpy/"
   ],
   "metadata": {
    "collapsed": false
   }
  },
  {
   "cell_type": "code",
   "execution_count": 87,
   "outputs": [],
   "source": [
    "from cmdstanpy import CmdStanModel\n",
    "import pandas as pd\n",
    "import numpy as np\n",
    "from matplotlib import pyplot as plt"
   ],
   "metadata": {
    "collapsed": false
   }
  },
  {
   "cell_type": "markdown",
   "source": [
    "Reading the data"
   ],
   "metadata": {
    "collapsed": false
   }
  },
  {
   "cell_type": "code",
   "execution_count": 98,
   "outputs": [
    {
     "data": {
      "text/plain": "    accel_x   accel_y   accel_z\n0  0.018066 -0.296875  1.040894\n1  0.016357 -0.297974  1.037354\n2  0.015137 -0.297607  1.032715\n3  0.018188 -0.297485  1.034912\n4  0.015015 -0.297607  1.039062",
      "text/html": "<div>\n<style scoped>\n    .dataframe tbody tr th:only-of-type {\n        vertical-align: middle;\n    }\n\n    .dataframe tbody tr th {\n        vertical-align: top;\n    }\n\n    .dataframe thead th {\n        text-align: right;\n    }\n</style>\n<table border=\"1\" class=\"dataframe\">\n  <thead>\n    <tr style=\"text-align: right;\">\n      <th></th>\n      <th>accel_x</th>\n      <th>accel_y</th>\n      <th>accel_z</th>\n    </tr>\n  </thead>\n  <tbody>\n    <tr>\n      <th>0</th>\n      <td>0.018066</td>\n      <td>-0.296875</td>\n      <td>1.040894</td>\n    </tr>\n    <tr>\n      <th>1</th>\n      <td>0.016357</td>\n      <td>-0.297974</td>\n      <td>1.037354</td>\n    </tr>\n    <tr>\n      <th>2</th>\n      <td>0.015137</td>\n      <td>-0.297607</td>\n      <td>1.032715</td>\n    </tr>\n    <tr>\n      <th>3</th>\n      <td>0.018188</td>\n      <td>-0.297485</td>\n      <td>1.034912</td>\n    </tr>\n    <tr>\n      <th>4</th>\n      <td>0.015015</td>\n      <td>-0.297607</td>\n      <td>1.039062</td>\n    </tr>\n  </tbody>\n</table>\n</div>"
     },
     "execution_count": 98,
     "metadata": {},
     "output_type": "execute_result"
    }
   ],
   "source": [
    "accel = pd.read_csv('../data/IMU2.txt')\n",
    "accel.head(5)"
   ],
   "metadata": {
    "collapsed": false
   }
  },
  {
   "cell_type": "markdown",
   "source": [
    "Prepare the data for Stan"
   ],
   "metadata": {
    "collapsed": false
   }
  },
  {
   "cell_type": "code",
   "execution_count": 103,
   "outputs": [
    {
     "name": "stderr",
     "output_type": "stream",
     "text": [
      "10:37:01 - cmdstanpy - INFO - CmdStan start processing\n"
     ]
    },
    {
     "data": {
      "text/plain": "chain 1 |          | 00:00 Status",
      "application/vnd.jupyter.widget-view+json": {
       "version_major": 2,
       "version_minor": 0,
       "model_id": "61d9ffda645d4ff5aafb6364866d2b95"
      }
     },
     "metadata": {},
     "output_type": "display_data"
    },
    {
     "data": {
      "text/plain": "chain 2 |          | 00:00 Status",
      "application/vnd.jupyter.widget-view+json": {
       "version_major": 2,
       "version_minor": 0,
       "model_id": "12b28b1b0428412e89d51e5e2e82c532"
      }
     },
     "metadata": {},
     "output_type": "display_data"
    },
    {
     "data": {
      "text/plain": "chain 3 |          | 00:00 Status",
      "application/vnd.jupyter.widget-view+json": {
       "version_major": 2,
       "version_minor": 0,
       "model_id": "22c6c75a934d46068765c1af2013e7fa"
      }
     },
     "metadata": {},
     "output_type": "display_data"
    },
    {
     "data": {
      "text/plain": "chain 4 |          | 00:00 Status",
      "application/vnd.jupyter.widget-view+json": {
       "version_major": 2,
       "version_minor": 0,
       "model_id": "aa26be2b522348ef858116f89067ee9e"
      }
     },
     "metadata": {},
     "output_type": "display_data"
    },
    {
     "name": "stdout",
     "output_type": "stream",
     "text": [
      "                                                                                                                                                                                                                                                                                                                                "
     ]
    },
    {
     "name": "stderr",
     "output_type": "stream",
     "text": [
      "10:37:01 - cmdstanpy - INFO - CmdStan done processing.\n",
      "10:37:01 - cmdstanpy - WARNING - Non-fatal error during sampling:\n",
      "Exception: normal_lpdf: Location parameter is inf, but must be finite! (in '/var/folders/fz/m2rj_6v909n6crfwx0qjlps00000gn/T/Rtmpup46er/model-650f1a02fb81.stan', line 27, column 4 to column 47)\n",
      "\tException: normal_lpdf: Location parameter is inf, but must be finite! (in '/var/folders/fz/m2rj_6v909n6crfwx0qjlps00000gn/T/Rtmpup46er/model-650f1a02fb81.stan', line 27, column 4 to column 47)\n",
      "Exception: normal_lpdf: Location parameter is inf, but must be finite! (in '/var/folders/fz/m2rj_6v909n6crfwx0qjlps00000gn/T/Rtmpup46er/model-650f1a02fb81.stan', line 27, column 4 to column 47)\n",
      "Exception: normal_lpdf: Location parameter is inf, but must be finite! (in '/var/folders/fz/m2rj_6v909n6crfwx0qjlps00000gn/T/Rtmpup46er/model-650f1a02fb81.stan', line 27, column 4 to column 47)\n",
      "\tException: normal_lpdf: Location parameter is inf, but must be finite! (in '/var/folders/fz/m2rj_6v909n6crfwx0qjlps00000gn/T/Rtmpup46er/model-650f1a02fb81.stan', line 27, column 4 to column 47)\n",
      "Exception: normal_lpdf: Location parameter is inf, but must be finite! (in '/var/folders/fz/m2rj_6v909n6crfwx0qjlps00000gn/T/Rtmpup46er/model-650f1a02fb81.stan', line 27, column 4 to column 47)\n",
      "\tException: normal_lpdf: Location parameter is inf, but must be finite! (in '/var/folders/fz/m2rj_6v909n6crfwx0qjlps00000gn/T/Rtmpup46er/model-650f1a02fb81.stan', line 27, column 4 to column 47)\n",
      "Consider re-running with show_console=True if the above output is unclear!\n"
     ]
    },
    {
     "name": "stdout",
     "output_type": "stream",
     "text": [
      "\n"
     ]
    }
   ],
   "source": [
    "from cmdstanpy import CmdStanModel\n",
    "dat = {'X' : accel, 'N' : accel.shape[0], 'D' : 3}\n",
    "inits = {\n",
    "    's' : [1,1,1],\n",
    "    'b' : [0,0,0],\n",
    "    'sigma' : 0.01\n",
    "}\n",
    "model = CmdStanModel(stan_file='../stan_models/calibration_ODR.stan')\n",
    "fit = model.sample(data=dat, inits=inits)"
   ],
   "metadata": {
    "collapsed": false
   }
  },
  {
   "cell_type": "code",
   "execution_count": 104,
   "outputs": [
    {
     "data": {
      "text/plain": "             Mean      MCSE    StdDev          5%         50%         95%  \\\nlp__   147.596000  0.053300  2.091260  143.680000  147.950000  150.263000   \nb[1]    -0.027682  0.000027  0.001759   -0.030584   -0.027675   -0.024768   \nb[2]     0.001529  0.000217  0.008223   -0.012270    0.001672    0.014744   \nb[3]     0.077812  0.000179  0.006820    0.066158    0.078160    0.088659   \nsigma    0.007210  0.000020  0.000890    0.005920    0.007120    0.008820   \ns[1]     0.998140  0.000048  0.002158    0.994585    0.998159    1.001700   \ns[2]     0.999308  0.000235  0.009183    0.984313    0.999437    1.014390   \ns[3]     0.993955  0.000246  0.009093    0.978923    0.994295    1.008850   \n\n            N_Eff     N_Eff/s     R_hat  \nlp__   1539.45000  1019.50000  1.001850  \nb[1]   4329.92000  2867.50000  0.999931  \nb[2]   1430.55000   947.38700  1.002820  \nb[3]   1452.49000   961.91700  1.000750  \nsigma  2263.96499  1499.31456  1.002130  \ns[1]   2026.42000  1342.00000  1.000910  \ns[2]   1525.74000  1010.42000  1.002670  \ns[3]   1369.91000   907.22200  1.000910  ",
      "text/html": "<div>\n<style scoped>\n    .dataframe tbody tr th:only-of-type {\n        vertical-align: middle;\n    }\n\n    .dataframe tbody tr th {\n        vertical-align: top;\n    }\n\n    .dataframe thead th {\n        text-align: right;\n    }\n</style>\n<table border=\"1\" class=\"dataframe\">\n  <thead>\n    <tr style=\"text-align: right;\">\n      <th></th>\n      <th>Mean</th>\n      <th>MCSE</th>\n      <th>StdDev</th>\n      <th>5%</th>\n      <th>50%</th>\n      <th>95%</th>\n      <th>N_Eff</th>\n      <th>N_Eff/s</th>\n      <th>R_hat</th>\n    </tr>\n  </thead>\n  <tbody>\n    <tr>\n      <th>lp__</th>\n      <td>147.596000</td>\n      <td>0.053300</td>\n      <td>2.091260</td>\n      <td>143.680000</td>\n      <td>147.950000</td>\n      <td>150.263000</td>\n      <td>1539.45000</td>\n      <td>1019.50000</td>\n      <td>1.001850</td>\n    </tr>\n    <tr>\n      <th>b[1]</th>\n      <td>-0.027682</td>\n      <td>0.000027</td>\n      <td>0.001759</td>\n      <td>-0.030584</td>\n      <td>-0.027675</td>\n      <td>-0.024768</td>\n      <td>4329.92000</td>\n      <td>2867.50000</td>\n      <td>0.999931</td>\n    </tr>\n    <tr>\n      <th>b[2]</th>\n      <td>0.001529</td>\n      <td>0.000217</td>\n      <td>0.008223</td>\n      <td>-0.012270</td>\n      <td>0.001672</td>\n      <td>0.014744</td>\n      <td>1430.55000</td>\n      <td>947.38700</td>\n      <td>1.002820</td>\n    </tr>\n    <tr>\n      <th>b[3]</th>\n      <td>0.077812</td>\n      <td>0.000179</td>\n      <td>0.006820</td>\n      <td>0.066158</td>\n      <td>0.078160</td>\n      <td>0.088659</td>\n      <td>1452.49000</td>\n      <td>961.91700</td>\n      <td>1.000750</td>\n    </tr>\n    <tr>\n      <th>sigma</th>\n      <td>0.007210</td>\n      <td>0.000020</td>\n      <td>0.000890</td>\n      <td>0.005920</td>\n      <td>0.007120</td>\n      <td>0.008820</td>\n      <td>2263.96499</td>\n      <td>1499.31456</td>\n      <td>1.002130</td>\n    </tr>\n    <tr>\n      <th>s[1]</th>\n      <td>0.998140</td>\n      <td>0.000048</td>\n      <td>0.002158</td>\n      <td>0.994585</td>\n      <td>0.998159</td>\n      <td>1.001700</td>\n      <td>2026.42000</td>\n      <td>1342.00000</td>\n      <td>1.000910</td>\n    </tr>\n    <tr>\n      <th>s[2]</th>\n      <td>0.999308</td>\n      <td>0.000235</td>\n      <td>0.009183</td>\n      <td>0.984313</td>\n      <td>0.999437</td>\n      <td>1.014390</td>\n      <td>1525.74000</td>\n      <td>1010.42000</td>\n      <td>1.002670</td>\n    </tr>\n    <tr>\n      <th>s[3]</th>\n      <td>0.993955</td>\n      <td>0.000246</td>\n      <td>0.009093</td>\n      <td>0.978923</td>\n      <td>0.994295</td>\n      <td>1.008850</td>\n      <td>1369.91000</td>\n      <td>907.22200</td>\n      <td>1.000910</td>\n    </tr>\n  </tbody>\n</table>\n</div>"
     },
     "execution_count": 104,
     "metadata": {},
     "output_type": "execute_result"
    }
   ],
   "source": [
    "fit.summary()"
   ],
   "metadata": {
    "collapsed": false
   }
  },
  {
   "cell_type": "code",
   "execution_count": 105,
   "outputs": [],
   "source": [
    "b_mean = np.array(fit.summary().Mean[1:4])\n",
    "s_inv = np.array(fit.summary().Mean[5:8])\n",
    "accel_uncal = np.array(accel)\n",
    "accel_cal = (accel_uncal - np.array(b_mean)) * s_inv"
   ],
   "metadata": {
    "collapsed": false
   }
  },
  {
   "cell_type": "code",
   "execution_count": 106,
   "outputs": [
    {
     "data": {
      "text/plain": "<Figure size 432x288 with 1 Axes>",
      "image/png": "[encoded data removed]"
     },
     "metadata": {
      "needs_background": "light"
     },
     "output_type": "display_data"
    }
   ],
   "source": [
    "g_cal = np.sqrt(accel_cal[:,0]**2 + accel_cal[:,1]**2 + accel_cal[:,2]**2)\n",
    "g_uncal = np.sqrt(accel_uncal[:,0]**2 + accel_uncal[:,1]**2 + accel_uncal[:,2]**2)\n",
    "plt.plot(g_uncal, label='Before Calibration')\n",
    "plt.plot(g_cal, label='After Calibration')\n",
    "plt.xlabel('Index')\n",
    "plt.ylabel('||g||')\n",
    "plt.title('Effect of Calibration')\n",
    "plt.legend(loc='upper right')\n",
    "plt.show()"
   ],
   "metadata": {
    "collapsed": false
   }
  },
  {
   "cell_type": "code",
   "execution_count": null,
   "outputs": [],
   "source": [],
   "metadata": {
    "collapsed": false
   }
  }
 ],
 "metadata": {
  "kernelspec": {
   "display_name": "Python 3",
   "language": "python",
   "name": "python3"
  },
  "language_info": {
   "codemirror_mode": {
    "name": "ipython",
    "version": 2
   },
   "file_extension": ".py",
   "mimetype": "text/x-python",
   "name": "python",
   "nbconvert_exporter": "python",
   "pygments_lexer": "ipython2",
   "version": "2.7.6"
  }
 },
 "nbformat": 4,
 "nbformat_minor": 0
}
